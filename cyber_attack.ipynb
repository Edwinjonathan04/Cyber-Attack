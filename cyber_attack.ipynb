{
 "cells": [
  {
   "cell_type": "code",
   "execution_count": null,
   "id": "a6955276-d2aa-4043-a5ec-1442aff58d8b",
   "metadata": {},
   "outputs": [],
   "source": [
    "# installing necessary libarires\n",
    "import numpy as np\n",
    "import pandas as pd\n",
    "import matplotlib.pyplot as plt\n",
    "import seaborn as sb"
   ]
  },
  {
   "cell_type": "code",
   "execution_count": null,
   "id": "1b180c0e-104a-429f-8066-ade71c5f56d7",
   "metadata": {},
   "outputs": [],
   "source": [
    "base_color = sb.color_palette\n",
    "year_order = df['year'].value_counts().index\n",
    "location_order = df['Location'].value_counts().index\n",
    "motive_order = df['Motive'].value_counts().index\n",
    "industry_order = df['Industry'].value_counts().index"
   ]
  },
  {
   "cell_type": "code",
   "execution_count": null,
   "id": "f1416372-da0b-488a-a005-4ba318ae003a",
   "metadata": {},
   "outputs": [],
   "source": [
    "\n",
    "#attack frequency by year\n",
    "plt.figure(figsize=(20,8))\n",
    "plt.title(\"Attack Frequency by year\")\n",
    "sb.countplot(data=df, y='year', color=base_color, order=year_order)\n",
    "plt.xticks(rotation=45); "
   ]
  },
  {
   "cell_type": "code",
   "execution_count": null,
   "id": "93ca914e-fcf4-46e4-b37d-16d8bee198a6",
   "metadata": {},
   "outputs": [],
   "source": [
    "\n",
    "#attack by industry\n",
    "plt.figure(figsize=(10,6))\n",
    "plt.title(\"Attack Frequency by industry\")\n",
    "sb.countplot(data=df,y='industry', color=base_color, order=year_order)\n",
    "plt.xticks(rotation=15)"
   ]
  },
  {
   "cell_type": "code",
   "execution_count": null,
   "id": "edb64ade-263e-44c6-bab9-4d89cf40290e",
   "metadata": {},
   "outputs": [],
   "source": [
    "\n",
    "plt.figure(figsize=(10,5))\n",
    "plt.title(\"Attack Frequency by Motive\")\n",
    "sb.countplot(data=df, y='Motive', color=base_color, order=motive_order)\n",
    "plt.xticks(rotation=15);"
   ]
  }
 ],
 "metadata": {
  "kernelspec": {
   "display_name": "Python 3 (ipykernel)",
   "language": "python",
   "name": "python3"
  },
  "language_info": {
   "codemirror_mode": {
    "name": "ipython",
    "version": 3
   },
   "file_extension": ".py",
   "mimetype": "text/x-python",
   "name": "python",
   "nbconvert_exporter": "python",
   "pygments_lexer": "ipython3",
   "version": "3.12.4"
  }
 },
 "nbformat": 4,
 "nbformat_minor": 5
}
